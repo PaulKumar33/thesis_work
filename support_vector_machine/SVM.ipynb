{
 "cells": [
  {
   "cell_type": "code",
   "execution_count": null,
   "metadata": {},
   "outputs": [],
   "source": []
  },
  {
   "cell_type": "code",
   "execution_count": 1,
   "metadata": {},
   "outputs": [
    {
     "name": "stdout",
     "output_type": "stream",
     "text": [
      "SVC(C=1, cache_size=200, class_weight=None, coef0=0.0,\n",
      "  decision_function_shape='ovr', degree=3, gamma='auto', kernel='linear',\n",
      "  max_iter=-1, probability=False, random_state=None, shrinking=True,\n",
      "  tol=0.001, verbose=False)\n"
     ]
    }
   ],
   "source": [
    "import numpy as np\n",
    "import matplotlib.pyplot as plt\n",
    "from sklearn import svm, datasets\n",
    "\n",
    "iris = datasets.load_iris()\n",
    "\n",
    "X = iris.data[:, :2]\n",
    "y = iris.target\n",
    "\n",
    "svc = svm.SVC(kernel='linear', C=1,gamma='auto').fit(X,y)\n",
    "print(svc)"
   ]
  },
  {
   "cell_type": "code",
   "execution_count": 2,
   "metadata": {},
   "outputs": [
    {
     "name": "stdout",
     "output_type": "stream",
     "text": [
      "1\n"
     ]
    },
    {
     "data": {
      "text/plain": [
       "array([2])"
      ]
     },
     "execution_count": 2,
     "metadata": {},
     "output_type": "execute_result"
    }
   ],
   "source": [
    "x1 = X[65]\n",
    "y1 = y[65]\n",
    "print(y1)\n",
    "svc.predict([x1])"
   ]
  },
  {
   "cell_type": "code",
   "execution_count": 9,
   "metadata": {},
   "outputs": [
    {
     "name": "stdout",
     "output_type": "stream",
     "text": [
      "{'linear': [1, 0.001, 0.8157894736842105], 'poly': [10, 0.1, 0.8421052631578947], 'rbf': [100, 1, 0.8421052631578947], 'sigmoid': [10, 0.1, 0.7105263157894737]}\n"
     ]
    }
   ],
   "source": [
    "#load the movement dataset\n",
    "import pandas as pd\n",
    "from sklearn import metrics\n",
    "from sklearn.model_selection import train_test_split\n",
    "\n",
    "file = \"../decision_data_new.xlsx\"\n",
    "data = pd.read_excel(file, \"sys_mini2\")\n",
    "\n",
    "y = data['direction']\n",
    "x = data.drop(['direction'], axis=1)\n",
    "\n",
    "x_train, x_test, y_train, y_test = train_test_split(x,y,test_size = 0.25, random_state=4)\n",
    "C = [0.1, 1, 10, 100]\n",
    "ga = [0.001, 0.01, 0.1, 1]\n",
    "k = ['linear', 'poly', 'rbf', 'sigmoid']\n",
    "acc = {}\n",
    "for c in C:\n",
    "    for g in ga:\n",
    "        for ker in k:            \n",
    "            svc_walking = svm.SVC(kernel=ker, C=c, gamma=g, max_iter=1e+4).fit(x_train, y_train)\n",
    "            pred = svc_walking.predict(x_test)\n",
    "            accuracy = metrics.accuracy_score(y_test, pred)\n",
    "            if(ker not in acc.keys()):\n",
    "                acc[ker] = [c,g,accuracy]\n",
    "            if(acc[ker][2] < accuracy):\n",
    "                acc[ker] = [c,g,accuracy]\n",
    "            \n",
    "\"\"\"svc_walking = svm.SVC(kernel=\"poly\", C=10, gamma=0.3).fit(x_train, y_train)\n",
    "\n",
    "pred = svc_walking.predict(x_test)\n",
    "print(\"Accuracy: \", metrics.accuracy_score(y_test, pred))\"\"\"\n",
    "\n",
    "print(acc)"
   ]
  },
  {
   "cell_type": "code",
   "execution_count": 7,
   "metadata": {},
   "outputs": [
    {
     "name": "stderr",
     "output_type": "stream",
     "text": [
      "C:\\Users\\paulk\\Anaconda3\\lib\\site-packages\\sklearn\\metrics\\classification.py:1143: UndefinedMetricWarning: F-score is ill-defined and being set to 0.0 in labels with no predicted samples.\n",
      "  'precision', 'predicted', average, warn_for)\n",
      "C:\\Users\\paulk\\Anaconda3\\lib\\site-packages\\sklearn\\metrics\\classification.py:1143: UndefinedMetricWarning: F-score is ill-defined and being set to 0.0 in labels with no predicted samples.\n",
      "  'precision', 'predicted', average, warn_for)\n",
      "C:\\Users\\paulk\\Anaconda3\\lib\\site-packages\\sklearn\\metrics\\classification.py:1143: UndefinedMetricWarning: F-score is ill-defined and being set to 0.0 in labels with no predicted samples.\n",
      "  'precision', 'predicted', average, warn_for)\n"
     ]
    }
   ],
   "source": [
    "from sklearn.model_selection import cross_val_score\n",
    "scores = cross_val_score(svc_walking, x_test, y_test, cv=5, scoring=\"f1_macro\")"
   ]
  },
  {
   "cell_type": "code",
   "execution_count": null,
   "metadata": {},
   "outputs": [],
   "source": [
    "import seaborn as sns\n",
    "data1 = data[[\"1-hot_second\", \"direction\"]]\n",
    "sns.pairplot(data1, hue=\"direction\")\n",
    "plt.show()"
   ]
  }
 ],
 "metadata": {
  "kernelspec": {
   "display_name": "Python 3",
   "language": "python",
   "name": "python3"
  },
  "language_info": {
   "codemirror_mode": {
    "name": "ipython",
    "version": 3
   },
   "file_extension": ".py",
   "mimetype": "text/x-python",
   "name": "python",
   "nbconvert_exporter": "python",
   "pygments_lexer": "ipython3",
   "version": "3.7.1"
  }
 },
 "nbformat": 4,
 "nbformat_minor": 2
}
