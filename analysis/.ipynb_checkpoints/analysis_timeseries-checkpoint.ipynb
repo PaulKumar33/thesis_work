{
 "cells": [
  {
   "cell_type": "code",
   "execution_count": 42,
   "id": "b82b0725-4e56-4717-9041-4676c2a5de80",
   "metadata": {},
   "outputs": [
    {
     "data": {
      "text/html": [
       "<div>\n",
       "<style scoped>\n",
       "    .dataframe tbody tr th:only-of-type {\n",
       "        vertical-align: middle;\n",
       "    }\n",
       "\n",
       "    .dataframe tbody tr th {\n",
       "        vertical-align: top;\n",
       "    }\n",
       "\n",
       "    .dataframe thead th {\n",
       "        text-align: right;\n",
       "    }\n",
       "</style>\n",
       "<table border=\"1\" class=\"dataframe\">\n",
       "  <thead>\n",
       "    <tr style=\"text-align: right;\">\n",
       "      <th></th>\n",
       "      <th>x</th>\n",
       "      <th>y</th>\n",
       "    </tr>\n",
       "  </thead>\n",
       "  <tbody>\n",
       "    <tr>\n",
       "      <th>0</th>\n",
       "      <td>1</td>\n",
       "      <td>leaving</td>\n",
       "    </tr>\n",
       "    <tr>\n",
       "      <th>1</th>\n",
       "      <td>0</td>\n",
       "      <td>returning</td>\n",
       "    </tr>\n",
       "    <tr>\n",
       "      <th>2</th>\n",
       "      <td>0</td>\n",
       "      <td>indicators</td>\n",
       "    </tr>\n",
       "    <tr>\n",
       "      <th>3</th>\n",
       "      <td>0</td>\n",
       "      <td>handwash</td>\n",
       "    </tr>\n",
       "    <tr>\n",
       "      <th>4</th>\n",
       "      <td>0</td>\n",
       "      <td>success</td>\n",
       "    </tr>\n",
       "  </tbody>\n",
       "</table>\n",
       "</div>"
      ],
      "text/plain": [
       "   x           y\n",
       "0  1     leaving\n",
       "1  0   returning\n",
       "2  0  indicators\n",
       "3  0    handwash\n",
       "4  0     success"
      ]
     },
     "execution_count": 42,
     "metadata": {},
     "output_type": "execute_result"
    }
   ],
   "source": [
    "import plotly.express as plt\n",
    "import pandas as pd\n",
    "\n",
    "\n",
    "d = {\"leaving\":[1,1,0,0,0,0,0,1,1,1,0,0,1,0,1,0,0], \n",
    "     \"returning\":[0,0,1,1,1,1,1,0,0,0,1,1,0,1,0,1,1], \n",
    "     \"indicators\":[0,0,0,1,0,1,1,0,0,0,1,1,0,1,0,0,1], \n",
    "     \"handwash\":[0,0,1,0,1,1,1,0,0,0,1,1,0,1,0,1,1], \n",
    "     \"success\":[0,0,1,0,1,1,1,0,0,0,1,1,0,1,0,1,1]}\n",
    "\n",
    "df = pd.DataFrame(data=d)\n",
    "\n",
    "d2 = {\"x\":[], \"y\":[]}\n",
    "cols = df.columns\n",
    "#simulate data collection\n",
    "for i in range(len(df['leaving'].tolist())):\n",
    "    for c in cols:\n",
    "        d2['x'].append(df[c][i])\n",
    "        d2['y'].append(c)\n",
    "    \n",
    "\n",
    "df2 = pd.DataFrame(d2)\n",
    "df2.head()\n",
    "#plt.scatter(x=[0, 1, 2, 3, 4], y=[0, 1, 4, 9, 16]).show()\n",
    "fig = plt.scatter(x = df2['x'],y=df2['y'])\n",
    " "
   ]
  }
 ],
 "metadata": {
  "kernelspec": {
   "display_name": "Python 3 (ipykernel)",
   "language": "python",
   "name": "python3"
  },
  "language_info": {
   "codemirror_mode": {
    "name": "ipython",
    "version": 3
   },
   "file_extension": ".py",
   "mimetype": "text/x-python",
   "name": "python",
   "nbconvert_exporter": "python",
   "pygments_lexer": "ipython3",
   "version": "3.9.5"
  }
 },
 "nbformat": 4,
 "nbformat_minor": 5
}
